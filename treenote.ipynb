{
 "cells": [
  {
   "cell_type": "code",
   "execution_count": null,
   "source": [],
   "outputs": [],
   "metadata": {}
  },
  {
   "cell_type": "code",
   "execution_count": null,
   "source": [
    "from PyQt5.QtCore import QFile, QDir\n",
    "import os\n",
    "from pathlib import Path\n",
    "from icecream import ic\n",
    "import sqlite3\n",
    "from lclsearch import revsearch\n",
    "import re"
   ],
   "outputs": [],
   "metadata": {}
  },
  {
   "cell_type": "code",
   "execution_count": null,
   "source": [
    "root = \"/home/rfile/revclips\"\n",
    "\n",
    "mydir = revsearch.TxtFileList(revsearch, root)\n",
    "myflist = revsearch.TxtFiles(revsearch, root)\n",
    "mybodytxt = revsearch.TxtFileBody(revsearch , (root + '/*.txt'))\n",
    "\n",
    "\n"
   ],
   "outputs": [],
   "metadata": {}
  },
  {
   "cell_type": "code",
   "execution_count": null,
   "source": [
    "root = \"/home/rfile/revclips\"\n",
    "txt_Titles =[]\n",
    "for file in os.listdir(root):\n",
    "            if file.endswith(\".txt\"):\n",
    "                txt_Titles.append(os.path.splitext(file)[0])\n",
    "mybodytxt = revsearch.TxtFileBody(revsearch , (root + '/*.txt'))"
   ],
   "outputs": [],
   "metadata": {}
  },
  {
   "cell_type": "code",
   "execution_count": null,
   "source": [
    "engstr = \"/home/rfile/python3/revnotes/notes.db\"\n",
    "con = sqlite3.connect(engstr)\n",
    "mycurs = con.cursor()"
   ],
   "outputs": [],
   "metadata": {}
  },
  {
   "cell_type": "code",
   "execution_count": null,
   "source": [
    "for b in mybodytxt:\n",
    "    b = b.strip('\\x00') "
   ],
   "outputs": [],
   "metadata": {}
  },
  {
   "cell_type": "code",
   "execution_count": null,
   "source": [
    "txt_Titles[19]"
   ],
   "outputs": [],
   "metadata": {}
  },
  {
   "cell_type": "markdown",
   "source": [
    "note this worked on directory from command line :\n",
    "ex -s +'bufdo!%s/\\%x00//g' -cxa *.txt\n",
    "ex is vi in ex mode ?\n",
    "\n",
    "\n"
   ],
   "metadata": {}
  },
  {
   "cell_type": "code",
   "execution_count": null,
   "source": [
    "mybodytxt[19]"
   ],
   "outputs": [],
   "metadata": {}
  },
  {
   "cell_type": "code",
   "execution_count": 15,
   "source": [
    "\n",
    "\n",
    "for i in range(len(txt_Titles)):\n",
    "    mycurs.execute(\"insert into revnotes (cat, title, content) VALUES(?, ?, ?)\" \\\n",
    "      , ('1' , txt_Titles[i] ,  (mybodytxt[i]) )) \n",
    "con.commit()\n",
    "          \n"
   ],
   "outputs": [],
   "metadata": {}
  },
  {
   "cell_type": "code",
   "execution_count": null,
   "source": [
    "mycurs.close()\n",
    "con.close() "
   ],
   "outputs": [],
   "metadata": {}
  },
  {
   "cell_type": "code",
   "execution_count": null,
   "source": [
    "ic(mydir.nameFilters())"
   ],
   "outputs": [],
   "metadata": {}
  },
  {
   "cell_type": "code",
   "execution_count": null,
   "source": [
    "myplainlist = mydir.entryList()\n"
   ],
   "outputs": [],
   "metadata": {}
  },
  {
   "cell_type": "code",
   "execution_count": null,
   "source": [
    "mydir.entryList()"
   ],
   "outputs": [],
   "metadata": {}
  },
  {
   "cell_type": "code",
   "execution_count": null,
   "source": [
    "mydir.entryList()[6]"
   ],
   "outputs": [],
   "metadata": {}
  },
  {
   "cell_type": "code",
   "execution_count": null,
   "source": [
    "base = os.path.basename('/home/rfile/revclips/boulter site.txt')\n",
    "base\n",
    "os.path.splitext(base)[0]"
   ],
   "outputs": [],
   "metadata": {}
  },
  {
   "cell_type": "code",
   "execution_count": null,
   "source": [
    "myplainlist"
   ],
   "outputs": [],
   "metadata": {}
  },
  {
   "cell_type": "markdown",
   "source": [],
   "metadata": {}
  },
  {
   "cell_type": "code",
   "execution_count": null,
   "source": [
    "lst = [os.path.splitext(x)[0] for x in myplainlist]\n"
   ],
   "outputs": [],
   "metadata": {}
  },
  {
   "cell_type": "code",
   "execution_count": null,
   "source": [
    "for y in lst:\n",
    "    print(y)"
   ],
   "outputs": [],
   "metadata": {}
  },
  {
   "cell_type": "code",
   "execution_count": null,
   "source": [
    "import os\n",
    "import glob\n",
    "from icecream import ic\n",
    "txtdir = \"/home/rfile/revclips/\"\n",
    "txtlist2 = glob.glob(\"/home/rfile/rev_clips/*.txt\")\n",
    "bodytext = []\n",
    "for f in txtlist2:\n",
    "    g = open(f)\n",
    "    k =  g.read()\n",
    "    bodytext.append(k)\n",
    "    \n",
    "\n",
    "\n",
    "\n",
    "       \n",
    "\n"
   ],
   "outputs": [],
   "metadata": {}
  },
  {
   "cell_type": "code",
   "execution_count": null,
   "source": [
    "print(txtlist2[4] + \"\\n\"  +  bodytext[4] )"
   ],
   "outputs": [],
   "metadata": {}
  },
  {
   "cell_type": "code",
   "execution_count": null,
   "source": [
    "for i in range(1,10,1):\n",
    "# for i in range(len(txtlist2)):\n",
    "    print(txtlist2[i] + \"\\n\"  +  bodytext[i] + \"\\n\\n\") "
   ],
   "outputs": [],
   "metadata": {
    "tags": []
   }
  },
  {
   "cell_type": "code",
   "execution_count": null,
   "source": [
    "\n",
    "    \n"
   ],
   "outputs": [],
   "metadata": {}
  },
  {
   "cell_type": "code",
   "execution_count": null,
   "source": [],
   "outputs": [],
   "metadata": {}
  },
  {
   "cell_type": "code",
   "execution_count": null,
   "source": [],
   "outputs": [],
   "metadata": {}
  },
  {
   "cell_type": "code",
   "execution_count": null,
   "source": [],
   "outputs": [],
   "metadata": {}
  }
 ],
 "metadata": {
  "interpreter": {
   "hash": "69e6f571b1c007559ff5b70691f6b4ee60243ee4b3580e08b6e3ddca996cd8aa"
  },
  "kernelspec": {
   "name": "python3",
   "display_name": "Python 3.8.10 64-bit ('revnotes': venv)"
  },
  "language_info": {
   "codemirror_mode": {
    "name": "ipython",
    "version": 3
   },
   "file_extension": ".py",
   "mimetype": "text/x-python",
   "name": "python",
   "nbconvert_exporter": "python",
   "pygments_lexer": "ipython3",
   "version": "3.8.10"
  }
 },
 "nbformat": 4,
 "nbformat_minor": 4
}