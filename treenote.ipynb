{
 "metadata": {
  "language_info": {
   "codemirror_mode": {
    "name": "ipython",
    "version": 3
   },
   "file_extension": ".py",
   "mimetype": "text/x-python",
   "name": "python",
   "nbconvert_exporter": "python",
   "pygments_lexer": "ipython3",
   "version": "3.8.10"
  },
  "orig_nbformat": 4,
  "kernelspec": {
   "name": "python3",
   "display_name": "Python 3.8.10 64-bit ('revenv': venv)"
  },
  "interpreter": {
   "hash": "344684ac67d6b9954d3a5a86bead710da52ef9f4810a3a455ea61238954a32cb"
  }
 },
 "nbformat": 4,
 "nbformat_minor": 2,
 "cells": [
  {
   "cell_type": "code",
   "execution_count": null,
   "metadata": {},
   "outputs": [],
   "source": []
  },
  {
   "cell_type": "code",
   "execution_count": 2,
   "metadata": {},
   "outputs": [],
   "source": [
    "from PyQt5.QtCore import QFile, QDir\n",
    "import os\n",
    "from pathlib import Path\n",
    "from icecream import ic"
   ]
  },
  {
   "cell_type": "code",
   "execution_count": 3,
   "metadata": {},
   "outputs": [],
   "source": [
    "mydir = QDir(\"/home/rfile/revclips/\")\n",
    "mydir.setNameFilters(['*.txt'])\n",
    "\n"
   ]
  },
  {
   "cell_type": "code",
   "execution_count": 8,
   "metadata": {},
   "outputs": [
    {
     "output_type": "execute_result",
     "data": {
      "text/plain": [
       "'/home/rfile/revclips'"
      ]
     },
     "metadata": {},
     "execution_count": 8
    }
   ],
   "source": [
    "mydir.path()"
   ]
  },
  {
   "cell_type": "code",
   "execution_count": null,
   "metadata": {},
   "outputs": [],
   "source": [
    "ic(mydir.nameFilters())"
   ]
  },
  {
   "cell_type": "code",
   "execution_count": null,
   "metadata": {},
   "outputs": [],
   "source": [
    "myplainlist = mydir.entryList()\n"
   ]
  },
  {
   "cell_type": "code",
   "execution_count": null,
   "metadata": {},
   "outputs": [],
   "source": [
    "base = os.path.basename('/home/rfile/revclips/boulter site.txt')\n",
    "base\n",
    "os.path.splitext(base)[0]"
   ]
  },
  {
   "cell_type": "code",
   "execution_count": null,
   "metadata": {},
   "outputs": [],
   "source": [
    "myplainlist"
   ]
  },
  {
   "source": [],
   "cell_type": "markdown",
   "metadata": {}
  },
  {
   "cell_type": "code",
   "execution_count": null,
   "metadata": {},
   "outputs": [],
   "source": [
    "lst = [os.path.splitext(x)[0] for x in myplainlist]\n"
   ]
  },
  {
   "cell_type": "code",
   "execution_count": 25,
   "metadata": {},
   "outputs": [
    {
     "output_type": "stream",
     "name": "stdout",
     "text": [
      "boulter site\ncache-saturation\ncachereview-1\ncachereview-10\ncachereview-14\ncachereview-15\ncachereview-16\ncachereview-19\ncachereview-2\ncachereview-20\ncachereview-21\ncachereview-23\ncachereview-24\ncachereview-26\ncachereview-27\ncachereview-28\ncachereview-29\ncachereview-31\ncachereview-32\ncachereview-33\ncachereview-34\ncachereview-35\ncachereview-37\ncachereview-39\ncachereview-4\ncachereview-40\ncachereview-42\ncachereview-43\ncachereview-44\ncachereview-45\ncachereview-46\ncachereview-48\ncachereview-5\ncachereview-50\ncachereview-51\ncachereview-52\ncachereview-54\ncachereview-55\ncachereview-56\ncachereview-58\ncachereview-59\ncachereview-6\ncachereview-66\ncachereview-67\ncachereview-68\ncachereview-69\ncachereview-7\ncachereview-70\ncachereview-73\ncachereview_13\ncachereview_17\ncachereview_18\ncachereview_22\ncachereview_25\ncachereview_3\ncachereview_30\ncachereview_38\ncachereview_41\ncachereview_47\ncachereview_49\ncachereview_53\ncachereview_61\ncachereview_62\ncachereview_63\ncachereview_64\ncachereview_65\ncachereview_71\ncachereview_72\ncemetary\ncommercial-gdlns\ncommercial\ncommercialLink\ncoord-geometry\ncopyq_0000\ncopyq_0000_note\ncopyq_0001\ncopyq_0001_note\ncopyq_0002\ndiff-terrain\ndisableforlogs\ndistance2points\nelectrical\nexplaincommerciallink\nhideAcacheGuideLines\nhint\nhomelocation\nnoprecedent\npalmbeach_county\nparking_coords_same\nresidential neighborhood\nseecoordinates\nshort-description\nshort-description2\nstate park permission-note\nstate park permission\ntemporarily-disable\ntimed-publish-01\ntimed-publish-02\ntimed-publish-03\ntoo close\nvacation\nvirus\nwheelchair\n"
     ]
    }
   ],
   "source": [
    "for y in lst:\n",
    "    print(y)"
   ]
  },
  {
   "cell_type": "code",
   "execution_count": null,
   "metadata": {},
   "outputs": [],
   "source": []
  }
 ]
}