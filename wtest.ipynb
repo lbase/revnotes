{
 "cells": [
  {
   "cell_type": "code",
   "execution_count": null,
   "source": [],
   "outputs": [],
   "metadata": {}
  },
  {
   "cell_type": "code",
   "execution_count": null,
   "source": [
    "import os\n",
    "from whoosh.index import create_in\n",
    "from whoosh.fields import Schema, TEXT, ID\n",
    "import sys\n",
    "from whoosh.qparser import QueryParser\n",
    "from whoosh import scoring\n",
    "from whoosh.index import open_dir\n",
    "\n"
   ],
   "outputs": [],
   "metadata": {}
  },
  {
   "cell_type": "markdown",
   "source": [
    "         Schema definition: title(name of file), path(as ID), content(indexed but not stored),textdata (stored text content)\n",
    "  "
   ],
   "metadata": {}
  },
  {
   "cell_type": "code",
   "execution_count": null,
   "source": [
    "def createSearchableData(root):\n",
    "        \n",
    "        \n",
    "        schema = Schema(title=TEXT(stored=True),path=ID(stored=True),\\\n",
    "                content=TEXT,textdata=TEXT(stored=True))\n",
    "        if not os.path.exists(\"indexdir\"):\n",
    "            os.mkdir(\"indexdir\")\n",
    "\n",
    "        # Creating a index writer to add document as per schema\n",
    "        ix = create_in(\"indexdir\",schema)\n",
    "        writer = ix.writer()\n",
    "\n",
    "        filepaths = [os.path.join(root,i) for i in os.listdir(root)]\n",
    "        for path in filepaths:\n",
    "            fp = open(path,'r')\n",
    "            print(path)\n",
    "            text = fp.read()\n",
    "            writer.add_document(title=path.split(\"/\")[0], path=path,\\\n",
    "            content=text,textdata=text)\n",
    "            fp.close()\n",
    "        writer.commit()\n",
    "        return writer\n"
   ],
   "outputs": [],
   "metadata": {}
  },
  {
   "cell_type": "code",
   "execution_count": null,
   "source": [
    "root = \"/home/rfile/rev_notes\"\n",
    "myindex = createSearchableData(root)"
   ],
   "outputs": [],
   "metadata": {}
  },
  {
   "cell_type": "code",
   "execution_count": null,
   "source": [
    "myindex.doc_count()"
   ],
   "outputs": [],
   "metadata": {}
  },
  {
   "cell_type": "code",
   "execution_count": null,
   "source": [],
   "outputs": [],
   "metadata": {}
  }
 ],
 "metadata": {
  "orig_nbformat": 4,
  "language_info": {
   "name": "python",
   "version": "3.8.10",
   "mimetype": "text/x-python",
   "codemirror_mode": {
    "name": "ipython",
    "version": 3
   },
   "pygments_lexer": "ipython3",
   "nbconvert_exporter": "python",
   "file_extension": ".py"
  },
  "kernelspec": {
   "name": "python3",
   "display_name": "Python 3.8.10 64-bit ('revenv': venv)"
  },
  "interpreter": {
   "hash": "344684ac67d6b9954d3a5a86bead710da52ef9f4810a3a455ea61238954a32cb"
  }
 },
 "nbformat": 4,
 "nbformat_minor": 2
}